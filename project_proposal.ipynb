{
 "cells": [
  {
   "cell_type": "markdown",
   "id": "8bbbbca4-61a1-450d-8cc3-73f2fdc0a7a0",
   "metadata": {},
   "source": [
    "# Title"
   ]
  },
  {
   "cell_type": "markdown",
   "id": "9fac45f6-ad87-41fb-b880-6c3311efcf0a",
   "metadata": {},
   "source": [
    "## Introduction\n",
    "Begin by providing some relevant background information on the topic so that someone unfamiliar with it will be prepared to understand the rest of your proposal.\n",
    "\n",
    "Clearly state the question you will try to answer with your project. Your question should involve one or more random variables of interest, spread across two or more categories that are interesting to compare. For example, you could consider the annual maxima river flow at two different locations along a river, or perhaps gender diversity at different universities. Of the response variable, identify one location parameter (mean, median, quantile, etc.) and one scale parameter (standard deviation, inter-quartile range, etc.) that would be useful in answering your question. Justify your choices.\n",
    "\n",
    "Identify and describe the dataset that will be used to answer the question. Remember, this dataset is allowed to contain more variables than you need – feel free to drop them!\n",
    "\n",
    "Also, be sure to frame your question/objectives in terms of what is already known in the literature. Be sure to include at least two scientific publications that can help frame your study (you will need to include these in the References section). We have no specific citation style requirements, but be consistent."
   ]
  },
  {
   "cell_type": "markdown",
   "id": "68bf91a3-e54a-48d3-9ee4-c0126ea4ef21",
   "metadata": {},
   "source": [
    "## Preliminary Results\n",
    "- Demonstrate that the dataset can be read from the web into R.\n",
    "- Clean and wrangle your data into a tidy format.\n",
    "- Plot the relevant raw data, tailoring your plot in a way that addresses your question.\n",
    "- Compute estimates of the parameter you identified across your groups. Present this in a table. If relevant, include these estimates in your plot."
   ]
  },
  {
   "cell_type": "markdown",
   "id": "19ffe832-88f6-4649-8eec-774619084fc3",
   "metadata": {},
   "source": [
    "## Methods: Plan\n",
    "Begin this Methods section with a brief description of “the good things” about this report – specifically, in what ways is this report trustworthy?\n",
    "\n",
    "Continue by explaining why the plot(s) and estimates that you produced are not enough to give to a stakeholder, and what you should provide in addition to address this gap. Make sure your plans include at least one hypothesis test and one confidence interval. If possible, compare both the bootstrapping and asymptotics methods.\n",
    "\n",
    "Finish this section by reflecting on how your final report might play out:\n",
    "- What do you expect to find?\n",
    "- What impact could such findings have?\n",
    "- What future questions could this lead to?"
   ]
  },
  {
   "cell_type": "markdown",
   "id": "4511437b-933e-491d-b47e-c4a657331cc0",
   "metadata": {},
   "source": [
    "## References\n",
    "At least two citations of literature relevant to the project. The citation format is your choice – just be consistent. Make sure to cite the source of your data as well."
   ]
  },
  {
   "cell_type": "code",
   "execution_count": null,
   "id": "be278884-6d19-44c4-a35f-2416cc94ae70",
   "metadata": {},
   "outputs": [],
   "source": []
  }
 ],
 "metadata": {
  "kernelspec": {
   "display_name": "R",
   "language": "R",
   "name": "ir"
  },
  "language_info": {
   "codemirror_mode": "r",
   "file_extension": ".r",
   "mimetype": "text/x-r-source",
   "name": "R",
   "pygments_lexer": "r",
   "version": "4.1.3"
  }
 },
 "nbformat": 4,
 "nbformat_minor": 5
}
